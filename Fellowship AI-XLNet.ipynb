{
  "cells": [
    {
      "cell_type": "markdown",
      "source": [
        "[![Open In Colab](https://colab.research.google.com/assets/colab-badge.svg)](https://colab.research.google.com/github/temmyzeus/Fellowship.AI-Challenge/blob/master/Fellowship%20AI-XLNet.ipynb)"
      ],
      "metadata": {
        "id": "0sxN20zdSR_G"
      },
      "id": "0sxN20zdSR_G"
    },
    {
      "cell_type": "markdown",
      "source": [
        "### Fetch Data from FastAI S3 Bucket"
      ],
      "metadata": {
        "id": "PMQ5scYXq6D5"
      },
      "id": "PMQ5scYXq6D5"
    },
    {
      "cell_type": "code",
      "execution_count": 1,
      "id": "295b5eb7-80fa-4917-afda-0101f9458f31",
      "metadata": {
        "id": "295b5eb7-80fa-4917-afda-0101f9458f31",
        "outputId": "794a0ebd-28d5-4826-f4ad-8b67fdbef11c",
        "colab": {
          "base_uri": "https://localhost:8080/"
        }
      },
      "outputs": [
        {
          "output_type": "stream",
          "name": "stdout",
          "text": [
            "--2022-04-02 14:26:47--  https://s3.amazonaws.com/fast-ai-nlp/dbpedia_csv.tgz\n",
            "Resolving s3.amazonaws.com (s3.amazonaws.com)... 52.216.177.37\n",
            "Connecting to s3.amazonaws.com (s3.amazonaws.com)|52.216.177.37|:443... connected.\n",
            "HTTP request sent, awaiting response... 200 OK\n",
            "Length: 68341743 (65M) [application/x-tar]\n",
            "Saving to: ‘dbpedia_csv.tgz’\n",
            "\n",
            "dbpedia_csv.tgz     100%[===================>]  65.17M  23.0MB/s    in 2.8s    \n",
            "\n",
            "2022-04-02 14:26:50 (23.0 MB/s) - ‘dbpedia_csv.tgz’ saved [68341743/68341743]\n",
            "\n",
            "unzip:  cannot find or open https://s3.amazonaws.com/fast-ai-nlp/dbpedia_csv.tgz, https://s3.amazonaws.com/fast-ai-nlp/dbpedia_csv.tgz.zip or https://s3.amazonaws.com/fast-ai-nlp/dbpedia_csv.tgz.ZIP.\n"
          ]
        }
      ],
      "source": [
        "!wget https://s3.amazonaws.com/fast-ai-nlp/dbpedia_csv.tgz\n",
        "!tar zxvf dbpedia_csv.tgz && rm dbpedia_csv.tgz"
      ]
    },
    {
      "cell_type": "code",
      "source": [
        "!pip install transformers[sentencepiece] -qq"
      ],
      "metadata": {
        "id": "gMY9Wsy9rJlj",
        "outputId": "202e2d6f-896f-49e0-ae2d-6ba735f3d2b5",
        "colab": {
          "base_uri": "https://localhost:8080/"
        }
      },
      "id": "gMY9Wsy9rJlj",
      "execution_count": 6,
      "outputs": [
        {
          "output_type": "stream",
          "name": "stdout",
          "text": [
            "\u001b[K     |████████████████████████████████| 3.8 MB 9.7 MB/s \n",
            "\u001b[K     |████████████████████████████████| 895 kB 50.4 MB/s \n",
            "\u001b[K     |████████████████████████████████| 6.5 MB 44.9 MB/s \n",
            "\u001b[K     |████████████████████████████████| 67 kB 4.8 MB/s \n",
            "\u001b[K     |████████████████████████████████| 596 kB 46.0 MB/s \n",
            "\u001b[K     |████████████████████████████████| 1.2 MB 45.7 MB/s \n",
            "\u001b[?25h"
          ]
        }
      ]
    },
    {
      "cell_type": "markdown",
      "source": [
        "### Import Libraries"
      ],
      "metadata": {
        "id": "G8aIeU9GrCOf"
      },
      "id": "G8aIeU9GrCOf"
    },
    {
      "cell_type": "code",
      "execution_count": 7,
      "id": "8bf956be-4ed2-4da1-a7d9-f7210ccecbe6",
      "metadata": {
        "id": "8bf956be-4ed2-4da1-a7d9-f7210ccecbe6"
      },
      "outputs": [],
      "source": [
        "import os\n",
        "import time\n",
        "import warnings\n",
        "from collections import defaultdict\n",
        "\n",
        "import matplotlib.pyplot as plt\n",
        "import numpy as np\n",
        "import pandas as pd\n",
        "import torch\n",
        "import torch.nn as nn\n",
        "import torch.nn.functional as F\n",
        "from tqdm import tqdm\n",
        "from tqdm import tgrange\n",
        "\n",
        "from IPython.display import Image\n",
        "import sklearn\n",
        "from sklearn.model_selection import train_test_split\n",
        "from torch.nn import CrossEntropyLoss\n",
        "from torch.utils.data import DataLoader, Dataset\n",
        "from transformers import (\n",
        "    XLNetConfig,\n",
        "    XLNetForSequenceClassification,\n",
        "    XLNetLMHeadModel,\n",
        "    XLNetModel,\n",
        "    XLNetTokenizer,\n",
        ")\n",
        "from transformers.optimization import AdamW"
      ]
    },
    {
      "cell_type": "code",
      "source": [
        "warnings.filterwarnings(\"ignore\")\n",
        "pd.set_option(\"display.max_colwidth\", None)\n",
        "os.environ[\"CUDA_LAUNCH_BLOCKING\"] = \"1\""
      ],
      "metadata": {
        "id": "_GLl7_zGsHDp"
      },
      "id": "_GLl7_zGsHDp",
      "execution_count": 8,
      "outputs": []
    },
    {
      "cell_type": "code",
      "execution_count": 9,
      "id": "b685a3dc-37c3-4a8a-b18b-783357981ce3",
      "metadata": {
        "id": "b685a3dc-37c3-4a8a-b18b-783357981ce3"
      },
      "outputs": [],
      "source": [
        "data_dir = \"dbpedia_csv\"\n",
        "\n",
        "with open(os.path.join(data_dir, \"classes.txt\"), mode=\"r\") as f:\n",
        "    classes = f.read()\n",
        "\n",
        "# split by newlines\n",
        "classes = classes.strip().split(\"\\n\")\n",
        "\n",
        "# pytorch expects input in 0 <-> n_classes\n",
        "classes_index = {n: class_ for n, class_ in enumerate(classes)}\n",
        "# classes_index = {n + 1: class_ for n, class_ in enumerate(classes)}"
      ]
    },
    {
      "cell_type": "code",
      "execution_count": 12,
      "id": "5d84b386-7762-4310-8c65-d1f2e5dfabcd",
      "metadata": {
        "id": "5d84b386-7762-4310-8c65-d1f2e5dfabcd",
        "outputId": "025abebc-88f8-4bd2-d25f-6ca3e37ff606",
        "colab": {
          "base_uri": "https://localhost:8080/"
        }
      },
      "outputs": [
        {
          "output_type": "stream",
          "name": "stdout",
          "text": [
            "Train Shape: (560000, 3)\n",
            "Test Shape: (70000, 3)\n"
          ]
        }
      ],
      "source": [
        "class_names = [\"Class Index\", \"Title\", \"Content\"]\n",
        "train = pd.read_csv(os.path.join(data_dir, \"train.csv\"), names=class_names)\n",
        "test = pd.read_csv(os.path.join(data_dir, \"test.csv\"), names=class_names)\n",
        "\n",
        "print(\"Train Shape: {}\".format(train.shape))\n",
        "print(\"Test Shape: {}\".format(test.shape))"
      ]
    },
    {
      "cell_type": "code",
      "execution_count": 13,
      "id": "55620970-1463-4874-bb06-5e081eeb83ea",
      "metadata": {
        "id": "55620970-1463-4874-bb06-5e081eeb83ea"
      },
      "outputs": [],
      "source": [
        "# resample  dataset\n",
        "N_SAMPLES = 50000\n",
        "train = sklearn.utils.resample(train, n_samples=N_SAMPLES, stratify=train['Class Index'])\n",
        "train.reset_index(drop=True, inplace=True)"
      ]
    },
    {
      "cell_type": "code",
      "execution_count": 14,
      "id": "e03b32da-ec77-4a52-8e6d-52198846290d",
      "metadata": {
        "id": "e03b32da-ec77-4a52-8e6d-52198846290d",
        "outputId": "11211725-9c69-42ee-8e26-0e6fde7132e7",
        "colab": {
          "base_uri": "https://localhost:8080/",
          "height": 337
        }
      },
      "outputs": [
        {
          "output_type": "execute_result",
          "data": {
            "text/plain": [
              "   Class Index                     Title  \\\n",
              "0            4  Wayne Edwards (baseball)   \n",
              "1            9         Kashkevar Markazi   \n",
              "2            3          Michiko Hamamura   \n",
              "3           10                 Mallosoma   \n",
              "4           11       Dorstenia grazielae   \n",
              "\n",
              "                                                                                                                                                                                                                            Content  \n",
              "0   Wayne Maurice Edwards (born March 7 1964 in Burbank California) is a former Major League Baseball pitcher for the Chicago White Sox. He was drafted by the White Sox in the 10th round of the 1985 Major League Baseball Draft.  \n",
              "1         Kashkevar (Persian: كشكور‎; also known as Koshkbar and Kūshkehbar) is a village in Aq Kahriz Rural District Nowbaran District Saveh County Markazi Province Iran. At the 2006 census its population was 17 in 4 families.  \n",
              "2               Michiko Hamamura (浜村 美智子 Hamamura Michiko born October 3 1938 in Osaka Japan) is a Japanese singer and actress. She was known as the Banana Boat Girl after she recorded a bi-lingual cover of the Banana Boat Song  \n",
              "3                               Mallosoma is a genus of beetles in the family Cerambycidae containing the following species: Mallosoma piptadeniae Giacomel 1976 Mallosoma scutellare White 1853 Mallosoma zonatum (Sahlberg 1823)↑  \n",
              "4                                                                                                                          Dorstenia grazielae is a species of herb in the Moraceae plant family which is native to eastern Brazil.  "
            ],
            "text/html": [
              "\n",
              "  <div id=\"df-0bdc9134-f9d3-4f7e-805a-f3e5c139d04b\">\n",
              "    <div class=\"colab-df-container\">\n",
              "      <div>\n",
              "<style scoped>\n",
              "    .dataframe tbody tr th:only-of-type {\n",
              "        vertical-align: middle;\n",
              "    }\n",
              "\n",
              "    .dataframe tbody tr th {\n",
              "        vertical-align: top;\n",
              "    }\n",
              "\n",
              "    .dataframe thead th {\n",
              "        text-align: right;\n",
              "    }\n",
              "</style>\n",
              "<table border=\"1\" class=\"dataframe\">\n",
              "  <thead>\n",
              "    <tr style=\"text-align: right;\">\n",
              "      <th></th>\n",
              "      <th>Class Index</th>\n",
              "      <th>Title</th>\n",
              "      <th>Content</th>\n",
              "    </tr>\n",
              "  </thead>\n",
              "  <tbody>\n",
              "    <tr>\n",
              "      <th>0</th>\n",
              "      <td>4</td>\n",
              "      <td>Wayne Edwards (baseball)</td>\n",
              "      <td>Wayne Maurice Edwards (born March 7 1964 in Burbank California) is a former Major League Baseball pitcher for the Chicago White Sox. He was drafted by the White Sox in the 10th round of the 1985 Major League Baseball Draft.</td>\n",
              "    </tr>\n",
              "    <tr>\n",
              "      <th>1</th>\n",
              "      <td>9</td>\n",
              "      <td>Kashkevar Markazi</td>\n",
              "      <td>Kashkevar (Persian: كشكور‎; also known as Koshkbar and Kūshkehbar) is a village in Aq Kahriz Rural District Nowbaran District Saveh County Markazi Province Iran. At the 2006 census its population was 17 in 4 families.</td>\n",
              "    </tr>\n",
              "    <tr>\n",
              "      <th>2</th>\n",
              "      <td>3</td>\n",
              "      <td>Michiko Hamamura</td>\n",
              "      <td>Michiko Hamamura (浜村 美智子 Hamamura Michiko born October 3 1938 in Osaka Japan) is a Japanese singer and actress. She was known as the Banana Boat Girl after she recorded a bi-lingual cover of the Banana Boat Song</td>\n",
              "    </tr>\n",
              "    <tr>\n",
              "      <th>3</th>\n",
              "      <td>10</td>\n",
              "      <td>Mallosoma</td>\n",
              "      <td>Mallosoma is a genus of beetles in the family Cerambycidae containing the following species: Mallosoma piptadeniae Giacomel 1976 Mallosoma scutellare White 1853 Mallosoma zonatum (Sahlberg 1823)↑</td>\n",
              "    </tr>\n",
              "    <tr>\n",
              "      <th>4</th>\n",
              "      <td>11</td>\n",
              "      <td>Dorstenia grazielae</td>\n",
              "      <td>Dorstenia grazielae is a species of herb in the Moraceae plant family which is native to eastern Brazil.</td>\n",
              "    </tr>\n",
              "  </tbody>\n",
              "</table>\n",
              "</div>\n",
              "      <button class=\"colab-df-convert\" onclick=\"convertToInteractive('df-0bdc9134-f9d3-4f7e-805a-f3e5c139d04b')\"\n",
              "              title=\"Convert this dataframe to an interactive table.\"\n",
              "              style=\"display:none;\">\n",
              "        \n",
              "  <svg xmlns=\"http://www.w3.org/2000/svg\" height=\"24px\"viewBox=\"0 0 24 24\"\n",
              "       width=\"24px\">\n",
              "    <path d=\"M0 0h24v24H0V0z\" fill=\"none\"/>\n",
              "    <path d=\"M18.56 5.44l.94 2.06.94-2.06 2.06-.94-2.06-.94-.94-2.06-.94 2.06-2.06.94zm-11 1L8.5 8.5l.94-2.06 2.06-.94-2.06-.94L8.5 2.5l-.94 2.06-2.06.94zm10 10l.94 2.06.94-2.06 2.06-.94-2.06-.94-.94-2.06-.94 2.06-2.06.94z\"/><path d=\"M17.41 7.96l-1.37-1.37c-.4-.4-.92-.59-1.43-.59-.52 0-1.04.2-1.43.59L10.3 9.45l-7.72 7.72c-.78.78-.78 2.05 0 2.83L4 21.41c.39.39.9.59 1.41.59.51 0 1.02-.2 1.41-.59l7.78-7.78 2.81-2.81c.8-.78.8-2.07 0-2.86zM5.41 20L4 18.59l7.72-7.72 1.47 1.35L5.41 20z\"/>\n",
              "  </svg>\n",
              "      </button>\n",
              "      \n",
              "  <style>\n",
              "    .colab-df-container {\n",
              "      display:flex;\n",
              "      flex-wrap:wrap;\n",
              "      gap: 12px;\n",
              "    }\n",
              "\n",
              "    .colab-df-convert {\n",
              "      background-color: #E8F0FE;\n",
              "      border: none;\n",
              "      border-radius: 50%;\n",
              "      cursor: pointer;\n",
              "      display: none;\n",
              "      fill: #1967D2;\n",
              "      height: 32px;\n",
              "      padding: 0 0 0 0;\n",
              "      width: 32px;\n",
              "    }\n",
              "\n",
              "    .colab-df-convert:hover {\n",
              "      background-color: #E2EBFA;\n",
              "      box-shadow: 0px 1px 2px rgba(60, 64, 67, 0.3), 0px 1px 3px 1px rgba(60, 64, 67, 0.15);\n",
              "      fill: #174EA6;\n",
              "    }\n",
              "\n",
              "    [theme=dark] .colab-df-convert {\n",
              "      background-color: #3B4455;\n",
              "      fill: #D2E3FC;\n",
              "    }\n",
              "\n",
              "    [theme=dark] .colab-df-convert:hover {\n",
              "      background-color: #434B5C;\n",
              "      box-shadow: 0px 1px 3px 1px rgba(0, 0, 0, 0.15);\n",
              "      filter: drop-shadow(0px 1px 2px rgba(0, 0, 0, 0.3));\n",
              "      fill: #FFFFFF;\n",
              "    }\n",
              "  </style>\n",
              "\n",
              "      <script>\n",
              "        const buttonEl =\n",
              "          document.querySelector('#df-0bdc9134-f9d3-4f7e-805a-f3e5c139d04b button.colab-df-convert');\n",
              "        buttonEl.style.display =\n",
              "          google.colab.kernel.accessAllowed ? 'block' : 'none';\n",
              "\n",
              "        async function convertToInteractive(key) {\n",
              "          const element = document.querySelector('#df-0bdc9134-f9d3-4f7e-805a-f3e5c139d04b');\n",
              "          const dataTable =\n",
              "            await google.colab.kernel.invokeFunction('convertToInteractive',\n",
              "                                                     [key], {});\n",
              "          if (!dataTable) return;\n",
              "\n",
              "          const docLinkHtml = 'Like what you see? Visit the ' +\n",
              "            '<a target=\"_blank\" href=https://colab.research.google.com/notebooks/data_table.ipynb>data table notebook</a>'\n",
              "            + ' to learn more about interactive tables.';\n",
              "          element.innerHTML = '';\n",
              "          dataTable['output_type'] = 'display_data';\n",
              "          await google.colab.output.renderOutput(dataTable, element);\n",
              "          const docLink = document.createElement('div');\n",
              "          docLink.innerHTML = docLinkHtml;\n",
              "          element.appendChild(docLink);\n",
              "        }\n",
              "      </script>\n",
              "    </div>\n",
              "  </div>\n",
              "  "
            ]
          },
          "metadata": {},
          "execution_count": 14
        }
      ],
      "source": [
        "train.head()"
      ]
    },
    {
      "cell_type": "code",
      "execution_count": 15,
      "id": "af94e5d9-1f84-4bb4-8bf0-c629b6d54a6b",
      "metadata": {
        "id": "af94e5d9-1f84-4bb4-8bf0-c629b6d54a6b",
        "outputId": "45877d36-7103-4e4a-c7dc-cec75c653bbb",
        "colab": {
          "base_uri": "https://localhost:8080/",
          "height": 389
        }
      },
      "outputs": [
        {
          "output_type": "execute_result",
          "data": {
            "text/plain": [
              "   Class Index                     Title  \\\n",
              "0            1                     TY KU   \n",
              "1            1     Odd Lot Entertainment   \n",
              "2            1                    Henkel   \n",
              "3            1                GOAT Store   \n",
              "4            1  RagWing Aircraft Designs   \n",
              "\n",
              "                                                                                                                                                                                                                                                                                                                                                                                                           Content  \n",
              "0                         TY KU /taɪkuː/ is an American alcoholic beverage company that specializes in sake and other spirits. The privately-held company was founded in 2004 and is headquartered in New York City New York. While based in New York TY KU's beverages are made in Japan through a joint venture with two sake breweries. Since 2011 TY KU's growth has extended its products into all 50 states.  \n",
              "1   OddLot Entertainment founded in 2001 by longtime producers Gigi Pritzker and Deborah Del Prete (The Wedding Planner) is a film production and financing company based in Culver City California.OddLot produced the film version of Orson Scott Card's sci-fi novel Ender's Game. A film version of this novel had been in the works in one form or another for more than a decade by the time of its release.  \n",
              "2                                                                                                                                                                                Henkel AG & Company KGaA operates worldwide with leading brands and technologies in three business areas: Laundry & Home Care Beauty Care and Adhesive Technologies. Henkel is the name behind some of America’s favorite brands.  \n",
              "3                                                                                                                                                                                      The GOAT Store (Games Of All Type Store) LLC is one of the largest retro gaming online stores and an Independent Video Game Publishing Label. Additionally they are one of the primary sponsors for Midwest Gaming Classic.  \n",
              "4                                                                                                                                                                                                                              RagWing Aircraft Designs (also called the RagWing Aeroplane Company and RagWing Aviation) was an American aircraft design and manufacturing company based in Belton South Carolina.  "
            ],
            "text/html": [
              "\n",
              "  <div id=\"df-07e29297-0004-46e7-9644-206ed330e1a4\">\n",
              "    <div class=\"colab-df-container\">\n",
              "      <div>\n",
              "<style scoped>\n",
              "    .dataframe tbody tr th:only-of-type {\n",
              "        vertical-align: middle;\n",
              "    }\n",
              "\n",
              "    .dataframe tbody tr th {\n",
              "        vertical-align: top;\n",
              "    }\n",
              "\n",
              "    .dataframe thead th {\n",
              "        text-align: right;\n",
              "    }\n",
              "</style>\n",
              "<table border=\"1\" class=\"dataframe\">\n",
              "  <thead>\n",
              "    <tr style=\"text-align: right;\">\n",
              "      <th></th>\n",
              "      <th>Class Index</th>\n",
              "      <th>Title</th>\n",
              "      <th>Content</th>\n",
              "    </tr>\n",
              "  </thead>\n",
              "  <tbody>\n",
              "    <tr>\n",
              "      <th>0</th>\n",
              "      <td>1</td>\n",
              "      <td>TY KU</td>\n",
              "      <td>TY KU /taɪkuː/ is an American alcoholic beverage company that specializes in sake and other spirits. The privately-held company was founded in 2004 and is headquartered in New York City New York. While based in New York TY KU's beverages are made in Japan through a joint venture with two sake breweries. Since 2011 TY KU's growth has extended its products into all 50 states.</td>\n",
              "    </tr>\n",
              "    <tr>\n",
              "      <th>1</th>\n",
              "      <td>1</td>\n",
              "      <td>Odd Lot Entertainment</td>\n",
              "      <td>OddLot Entertainment founded in 2001 by longtime producers Gigi Pritzker and Deborah Del Prete (The Wedding Planner) is a film production and financing company based in Culver City California.OddLot produced the film version of Orson Scott Card's sci-fi novel Ender's Game. A film version of this novel had been in the works in one form or another for more than a decade by the time of its release.</td>\n",
              "    </tr>\n",
              "    <tr>\n",
              "      <th>2</th>\n",
              "      <td>1</td>\n",
              "      <td>Henkel</td>\n",
              "      <td>Henkel AG &amp; Company KGaA operates worldwide with leading brands and technologies in three business areas: Laundry &amp; Home Care Beauty Care and Adhesive Technologies. Henkel is the name behind some of America’s favorite brands.</td>\n",
              "    </tr>\n",
              "    <tr>\n",
              "      <th>3</th>\n",
              "      <td>1</td>\n",
              "      <td>GOAT Store</td>\n",
              "      <td>The GOAT Store (Games Of All Type Store) LLC is one of the largest retro gaming online stores and an Independent Video Game Publishing Label. Additionally they are one of the primary sponsors for Midwest Gaming Classic.</td>\n",
              "    </tr>\n",
              "    <tr>\n",
              "      <th>4</th>\n",
              "      <td>1</td>\n",
              "      <td>RagWing Aircraft Designs</td>\n",
              "      <td>RagWing Aircraft Designs (also called the RagWing Aeroplane Company and RagWing Aviation) was an American aircraft design and manufacturing company based in Belton South Carolina.</td>\n",
              "    </tr>\n",
              "  </tbody>\n",
              "</table>\n",
              "</div>\n",
              "      <button class=\"colab-df-convert\" onclick=\"convertToInteractive('df-07e29297-0004-46e7-9644-206ed330e1a4')\"\n",
              "              title=\"Convert this dataframe to an interactive table.\"\n",
              "              style=\"display:none;\">\n",
              "        \n",
              "  <svg xmlns=\"http://www.w3.org/2000/svg\" height=\"24px\"viewBox=\"0 0 24 24\"\n",
              "       width=\"24px\">\n",
              "    <path d=\"M0 0h24v24H0V0z\" fill=\"none\"/>\n",
              "    <path d=\"M18.56 5.44l.94 2.06.94-2.06 2.06-.94-2.06-.94-.94-2.06-.94 2.06-2.06.94zm-11 1L8.5 8.5l.94-2.06 2.06-.94-2.06-.94L8.5 2.5l-.94 2.06-2.06.94zm10 10l.94 2.06.94-2.06 2.06-.94-2.06-.94-.94-2.06-.94 2.06-2.06.94z\"/><path d=\"M17.41 7.96l-1.37-1.37c-.4-.4-.92-.59-1.43-.59-.52 0-1.04.2-1.43.59L10.3 9.45l-7.72 7.72c-.78.78-.78 2.05 0 2.83L4 21.41c.39.39.9.59 1.41.59.51 0 1.02-.2 1.41-.59l7.78-7.78 2.81-2.81c.8-.78.8-2.07 0-2.86zM5.41 20L4 18.59l7.72-7.72 1.47 1.35L5.41 20z\"/>\n",
              "  </svg>\n",
              "      </button>\n",
              "      \n",
              "  <style>\n",
              "    .colab-df-container {\n",
              "      display:flex;\n",
              "      flex-wrap:wrap;\n",
              "      gap: 12px;\n",
              "    }\n",
              "\n",
              "    .colab-df-convert {\n",
              "      background-color: #E8F0FE;\n",
              "      border: none;\n",
              "      border-radius: 50%;\n",
              "      cursor: pointer;\n",
              "      display: none;\n",
              "      fill: #1967D2;\n",
              "      height: 32px;\n",
              "      padding: 0 0 0 0;\n",
              "      width: 32px;\n",
              "    }\n",
              "\n",
              "    .colab-df-convert:hover {\n",
              "      background-color: #E2EBFA;\n",
              "      box-shadow: 0px 1px 2px rgba(60, 64, 67, 0.3), 0px 1px 3px 1px rgba(60, 64, 67, 0.15);\n",
              "      fill: #174EA6;\n",
              "    }\n",
              "\n",
              "    [theme=dark] .colab-df-convert {\n",
              "      background-color: #3B4455;\n",
              "      fill: #D2E3FC;\n",
              "    }\n",
              "\n",
              "    [theme=dark] .colab-df-convert:hover {\n",
              "      background-color: #434B5C;\n",
              "      box-shadow: 0px 1px 3px 1px rgba(0, 0, 0, 0.15);\n",
              "      filter: drop-shadow(0px 1px 2px rgba(0, 0, 0, 0.3));\n",
              "      fill: #FFFFFF;\n",
              "    }\n",
              "  </style>\n",
              "\n",
              "      <script>\n",
              "        const buttonEl =\n",
              "          document.querySelector('#df-07e29297-0004-46e7-9644-206ed330e1a4 button.colab-df-convert');\n",
              "        buttonEl.style.display =\n",
              "          google.colab.kernel.accessAllowed ? 'block' : 'none';\n",
              "\n",
              "        async function convertToInteractive(key) {\n",
              "          const element = document.querySelector('#df-07e29297-0004-46e7-9644-206ed330e1a4');\n",
              "          const dataTable =\n",
              "            await google.colab.kernel.invokeFunction('convertToInteractive',\n",
              "                                                     [key], {});\n",
              "          if (!dataTable) return;\n",
              "\n",
              "          const docLinkHtml = 'Like what you see? Visit the ' +\n",
              "            '<a target=\"_blank\" href=https://colab.research.google.com/notebooks/data_table.ipynb>data table notebook</a>'\n",
              "            + ' to learn more about interactive tables.';\n",
              "          element.innerHTML = '';\n",
              "          dataTable['output_type'] = 'display_data';\n",
              "          await google.colab.output.renderOutput(dataTable, element);\n",
              "          const docLink = document.createElement('div');\n",
              "          docLink.innerHTML = docLinkHtml;\n",
              "          element.appendChild(docLink);\n",
              "        }\n",
              "      </script>\n",
              "    </div>\n",
              "  </div>\n",
              "  "
            ]
          },
          "metadata": {},
          "execution_count": 15
        }
      ],
      "source": [
        "test.head()"
      ]
    },
    {
      "cell_type": "code",
      "execution_count": 16,
      "id": "e8962d3c-4efa-44ab-91be-a6f6eed0afe4",
      "metadata": {
        "id": "e8962d3c-4efa-44ab-91be-a6f6eed0afe4"
      },
      "outputs": [],
      "source": [
        "# pytorch expects input in 0 <-> n_classes\n",
        "train[\"Class Index\"] = train[\"Class Index\"] - 1\n",
        "test[\"Class Index\"] = test[\"Class Index\"] - 1"
      ]
    },
    {
      "cell_type": "code",
      "execution_count": 17,
      "id": "ffc3fd4c-ae2e-49cc-a687-bdd2dad18f56",
      "metadata": {
        "id": "ffc3fd4c-ae2e-49cc-a687-bdd2dad18f56"
      },
      "outputs": [],
      "source": [
        "train.name = \"Train\"\n",
        "test.name = \"Test\""
      ]
    },
    {
      "cell_type": "code",
      "execution_count": 18,
      "id": "83a44636-5b3a-4089-b9af-75d56d291d25",
      "metadata": {
        "id": "83a44636-5b3a-4089-b9af-75d56d291d25",
        "outputId": "8015efba-3dd2-4b0c-c316-75c719a41583",
        "colab": {
          "base_uri": "https://localhost:8080/"
        }
      },
      "outputs": [
        {
          "output_type": "stream",
          "name": "stdout",
          "text": [
            "<class 'pandas.core.frame.DataFrame'>\n",
            "RangeIndex: 50000 entries, 0 to 49999\n",
            "Data columns (total 3 columns):\n",
            " #   Column       Non-Null Count  Dtype \n",
            "---  ------       --------------  ----- \n",
            " 0   Class Index  50000 non-null  int64 \n",
            " 1   Title        50000 non-null  object\n",
            " 2   Content      50000 non-null  object\n",
            "dtypes: int64(1), object(2)\n",
            "memory usage: 1.1+ MB\n"
          ]
        }
      ],
      "source": [
        "train.info()"
      ]
    },
    {
      "cell_type": "code",
      "execution_count": 19,
      "id": "bc3d1f73-6fee-44ca-b734-ec7c22d07361",
      "metadata": {
        "id": "bc3d1f73-6fee-44ca-b734-ec7c22d07361",
        "outputId": "7403f808-553e-45c0-cab3-772a9c250c5f",
        "colab": {
          "base_uri": "https://localhost:8080/"
        }
      },
      "outputs": [
        {
          "output_type": "stream",
          "name": "stdout",
          "text": [
            "<class 'pandas.core.frame.DataFrame'>\n",
            "RangeIndex: 70000 entries, 0 to 69999\n",
            "Data columns (total 3 columns):\n",
            " #   Column       Non-Null Count  Dtype \n",
            "---  ------       --------------  ----- \n",
            " 0   Class Index  70000 non-null  int64 \n",
            " 1   Title        70000 non-null  object\n",
            " 2   Content      70000 non-null  object\n",
            "dtypes: int64(1), object(2)\n",
            "memory usage: 1.6+ MB\n"
          ]
        }
      ],
      "source": [
        "test.info()"
      ]
    },
    {
      "cell_type": "code",
      "execution_count": null,
      "id": "0ff1a122-113b-4a2c-adeb-53fc43daa5d4",
      "metadata": {
        "id": "0ff1a122-113b-4a2c-adeb-53fc43daa5d4",
        "outputId": "68235a5f-de9e-4458-f477-3fb5964ac481"
      },
      "outputs": [
        {
          "name": "stdout",
          "output_type": "stream",
          "text": [
            "Train has 2159 duplicated titles\n",
            "Test has 0 duplicated titles\n"
          ]
        }
      ],
      "source": [
        "# Do we have any duplicated title in train and test?\n",
        "def get_duplicated_titles(df: pd.DataFrame) -> str:\n",
        "    n_dup = df.duplicated().sum()\n",
        "    return \"{0} has {1} duplicated titles\".format(df.name, n_dup)\n",
        "\n",
        "\n",
        "print(get_duplicated_titles(train))\n",
        "print(get_duplicated_titles(test))"
      ]
    },
    {
      "cell_type": "code",
      "execution_count": null,
      "id": "23f4ddec-24bb-4ebe-8d75-8532790ef04f",
      "metadata": {
        "id": "23f4ddec-24bb-4ebe-8d75-8532790ef04f",
        "outputId": "a8d837e9-9e5f-4ffd-adb7-d221a060aa31"
      },
      "outputs": [
        {
          "data": {
            "text/plain": [
              "4     3572\n",
              "13    3572\n",
              "9     3572\n",
              "10    3572\n",
              "5     3572\n",
              "3     3572\n",
              "0     3571\n",
              "7     3571\n",
              "6     3571\n",
              "1     3571\n",
              "12    3571\n",
              "8     3571\n",
              "2     3571\n",
              "11    3571\n",
              "Name: Class Index, dtype: int64"
            ]
          },
          "execution_count": 13,
          "metadata": {},
          "output_type": "execute_result"
        }
      ],
      "source": [
        "train[\"Class Index\"].value_counts()"
      ]
    },
    {
      "cell_type": "code",
      "execution_count": null,
      "id": "b3b00915-d2eb-47a0-a715-ac9119411f5e",
      "metadata": {
        "id": "b3b00915-d2eb-47a0-a715-ac9119411f5e",
        "outputId": "e7fdd5ac-9167-4061-fd33-2f3b7b3573ed"
      },
      "outputs": [
        {
          "data": {
            "text/plain": [
              "0     5000\n",
              "1     5000\n",
              "2     5000\n",
              "3     5000\n",
              "4     5000\n",
              "5     5000\n",
              "6     5000\n",
              "7     5000\n",
              "8     5000\n",
              "9     5000\n",
              "10    5000\n",
              "11    5000\n",
              "12    5000\n",
              "13    5000\n",
              "Name: Class Index, dtype: int64"
            ]
          },
          "execution_count": 14,
          "metadata": {},
          "output_type": "execute_result"
        }
      ],
      "source": [
        "test[\"Class Index\"].value_counts()"
      ]
    },
    {
      "cell_type": "markdown",
      "id": "0d3d8128-90a4-4f4e-a80e-9796ef947c52",
      "metadata": {
        "id": "0d3d8128-90a4-4f4e-a80e-9796ef947c52"
      },
      "source": [
        "We observe that att classes in the data have equal instances, so there is no data imbalance whatsoever."
      ]
    },
    {
      "cell_type": "code",
      "execution_count": null,
      "id": "4bde8657-d22b-4ad9-8cf4-3441ef1846bd",
      "metadata": {
        "id": "4bde8657-d22b-4ad9-8cf4-3441ef1846bd"
      },
      "outputs": [],
      "source": [
        "PRETRAINED_MODEL = \"xlnet-base-cased\"\n",
        "xlnet_tokenizer = XLNetTokenizer.from_pretrained(PRETRAINED_MODEL, do_lower_case=True)"
      ]
    },
    {
      "cell_type": "code",
      "execution_count": null,
      "id": "971f5832-3147-4662-9042-8cf92f5a7958",
      "metadata": {
        "id": "971f5832-3147-4662-9042-8cf92f5a7958",
        "outputId": "53ba0748-771e-48c2-8bef-12a4db271b20"
      },
      "outputs": [
        {
          "name": "stderr",
          "output_type": "stream",
          "text": [
            "Some weights of the model checkpoint at xlnet-base-cased were not used when initializing XLNetModel: ['lm_loss.weight', 'lm_loss.bias']\n",
            "- This IS expected if you are initializing XLNetModel from the checkpoint of a model trained on another task or with another architecture (e.g. initializing a BertForSequenceClassification model from a BertForPreTraining model).\n",
            "- This IS NOT expected if you are initializing XLNetModel from the checkpoint of a model that you expect to be exactly identical (initializing a BertForSequenceClassification model from a BertForSequenceClassification model).\n"
          ]
        }
      ],
      "source": [
        "xlnet_model = XLNetModel.from_pretrained(PRETRAINED_MODEL)"
      ]
    },
    {
      "cell_type": "code",
      "execution_count": null,
      "id": "979712aa-6620-486e-9657-eaf57383a649",
      "metadata": {
        "id": "979712aa-6620-486e-9657-eaf57383a649"
      },
      "outputs": [],
      "source": [
        "def preprocess_text(text: str) -> str:\n",
        "    return text.strip()\n",
        "\n",
        "\n",
        "train[\"Content\"] = train[\"Content\"].apply(preprocess_text)\n",
        "test[\"Content\"] = test[\"Content\"].apply(preprocess_text)"
      ]
    },
    {
      "cell_type": "code",
      "execution_count": null,
      "id": "a7379808-ed5d-4d66-b143-396fadcfd594",
      "metadata": {
        "id": "a7379808-ed5d-4d66-b143-396fadcfd594",
        "outputId": "aaacb5e2-4414-45b3-a413-ca694dbb4a9f"
      },
      "outputs": [
        {
          "data": {
            "text/plain": [
              "'Sir Sze-Yuen Chung (traditional Chinese: 鍾士元; simplified Chinese: 钟士元; Mandarin Pinyin: Zhōng Shìyuán; Jyutping: Zung1 Si6 Jyun4; born 3 November 1917 in Hong Kong) GBE GBM is a Hong Kong mechanical engineer industrialist business executive and politician.'"
            ]
          },
          "execution_count": 18,
          "metadata": {},
          "output_type": "execute_result"
        }
      ],
      "source": [
        "train[\"Content\"][0]"
      ]
    },
    {
      "cell_type": "code",
      "execution_count": null,
      "id": "ec1fc517-a859-463b-ae86-c008b0886271",
      "metadata": {
        "id": "ec1fc517-a859-463b-ae86-c008b0886271"
      },
      "outputs": [],
      "source": [
        "# This lines runs for quite a while, so\n",
        "# %%time\n",
        "# train_content_lens = train['Content'].apply(lambda x: len(xlnet_tokenizer.tokenize(x)))\n",
        "# test_content_lens = test['Content'].apply(lambda x: len(xlnet_tokenizer.tokenize(x)))"
      ]
    },
    {
      "cell_type": "code",
      "execution_count": null,
      "id": "91377f18-2caf-4b18-a39a-c7c382146e00",
      "metadata": {
        "id": "91377f18-2caf-4b18-a39a-c7c382146e00",
        "outputId": "57d0875e-f428-473a-a5b9-e3f6cd56391a"
      },
      "outputs": [
        {
          "data": {
            "image/png": "[encoded data removed]",
            "text/plain": [
              "<IPython.core.display.Image object>"
            ]
          },
          "execution_count": 20,
          "metadata": {},
          "output_type": "execute_result"
        }
      ],
      "source": [
        "# percentiles=[.25, .50, .70, .90, .95, .99]\n",
        "\n",
        "# print('Train Lengths Discription:\\n\\b',\n",
        "#       train_content_lens.describe(percentiles=percentiles),\n",
        "#       '\\n\\nTest Lengths Discription:\\n\\b',\n",
        "#       test_content_lens.describe(percentiles=percentiles))\n",
        "\n",
        "# Comment the line below if you choose to run the cell above\n",
        "Image(\"./data length summary screenshot.png\")"
      ]
    },
    {
      "cell_type": "code",
      "execution_count": null,
      "id": "bb4d8d6e-10a7-44c8-a383-8b302e617a7a",
      "metadata": {
        "id": "bb4d8d6e-10a7-44c8-a383-8b302e617a7a"
      },
      "outputs": [],
      "source": [
        "MAX_LEN = 130"
      ]
    },
    {
      "cell_type": "code",
      "execution_count": null,
      "id": "6c798a93-abd3-4f81-91d4-3afcc98ce88d",
      "metadata": {
        "id": "6c798a93-abd3-4f81-91d4-3afcc98ce88d"
      },
      "outputs": [],
      "source": [
        "# xlnet_seq_cls_model = XLNetForSequenceClassification.from_pretrained(PRETRAINED_MODEL)\n",
        "# xlnet_seq_cls_model"
      ]
    },
    {
      "cell_type": "code",
      "execution_count": null,
      "id": "b0909269-25b5-4b6b-85a4-3dfc036ca0b5",
      "metadata": {
        "id": "b0909269-25b5-4b6b-85a4-3dfc036ca0b5",
        "outputId": "f4e4e851-e5b4-48e8-98cb-60706c451272"
      },
      "outputs": [
        {
          "name": "stdout",
          "output_type": "stream",
          "text": [
            "Using: Cuda\n",
            "Using 1 device: Tesla T4\n"
          ]
        }
      ],
      "source": [
        "DEVICE = torch.device(\"cuda\") if torch.cuda.is_available() else torch.device(\"cpu\")\n",
        "print(\"Using: {}\".format(DEVICE.type.title()))\n",
        "\n",
        "if DEVICE.type == \"cuda\":\n",
        "    print(f\"Using {torch.cuda.device_count()} device: {torch.cuda.get_device_name()}\")"
      ]
    },
    {
      "cell_type": "code",
      "execution_count": null,
      "id": "0cb77ea9-02c4-4bf8-8441-22ef05068793",
      "metadata": {
        "id": "0cb77ea9-02c4-4bf8-8441-22ef05068793",
        "outputId": "dd1ebd6e-bfa2-47bc-86da-fe4ac0af5b99"
      },
      "outputs": [
        {
          "name": "stdout",
          "output_type": "stream",
          "text": [
            "Tue Feb  8 19:11:24 2022       \n",
            "+-----------------------------------------------------------------------------+\n",
            "| NVIDIA-SMI 470.57.02    Driver Version: 470.57.02    CUDA Version: 11.4     |\n",
            "|-------------------------------+----------------------+----------------------+\n",
            "| GPU  Name        Persistence-M| Bus-Id        Disp.A | Volatile Uncorr. ECC |\n",
            "| Fan  Temp  Perf  Pwr:Usage/Cap|         Memory-Usage | GPU-Util  Compute M. |\n",
            "|                               |                      |               MIG M. |\n",
            "|===============================+======================+======================|\n",
            "|   0  Tesla T4            Off  | 00000000:00:1E.0 Off |                    0 |\n",
            "| N/A   36C    P0    26W /  70W |      3MiB / 15109MiB |      5%      Default |\n",
            "|                               |                      |                  N/A |\n",
            "+-------------------------------+----------------------+----------------------+\n",
            "                                                                               \n",
            "+-----------------------------------------------------------------------------+\n",
            "| Processes:                                                                  |\n",
            "|  GPU   GI   CI        PID   Type   Process name                  GPU Memory |\n",
            "|        ID   ID                                                   Usage      |\n",
            "|=============================================================================|\n",
            "|  No running processes found                                                 |\n",
            "+-----------------------------------------------------------------------------+\n"
          ]
        }
      ],
      "source": [
        "!nvidia-smi"
      ]
    },
    {
      "cell_type": "code",
      "execution_count": null,
      "id": "43f34db8-93c9-4ebc-ac66-3f837eec73fe",
      "metadata": {
        "id": "43f34db8-93c9-4ebc-ac66-3f837eec73fe",
        "outputId": "401e4fa1-c79a-4687-de15-291bb0540e7e"
      },
      "outputs": [
        {
          "name": "stdout",
          "output_type": "stream",
          "text": [
            "Train Shape: (37500, 3)\n",
            "Validation Shape: (12500, 3)\n"
          ]
        }
      ],
      "source": [
        "TEST_SIZE = 0.25\n",
        "TARGET = \"Class Index\"\n",
        "train, valid = train_test_split(train, test_size=TEST_SIZE, stratify=train[TARGET])\n",
        "train.reset_index(drop=True, inplace=True)\n",
        "valid.reset_index(drop=True, inplace=True)\n",
        "\n",
        "print(f\"Train Shape: {train.shape}\")\n",
        "print(f\"Validation Shape: {valid.shape}\")"
      ]
    },
    {
      "cell_type": "code",
      "execution_count": null,
      "id": "74cf53e4-a6fd-4af1-ac40-2084fae6530b",
      "metadata": {
        "id": "74cf53e4-a6fd-4af1-ac40-2084fae6530b",
        "outputId": "7eba2c9d-dd54-4459-f44f-e23a284165f4"
      },
      "outputs": [
        {
          "data": {
            "text/plain": [
              "{'input_ids': tensor([[    5,     5,     5,     5,     5,     5,     5,     5,     5,     5,\n",
              "             5,     5,     5,     5,     5,     5,     5,     5,     5,     5,\n",
              "             5,     5,     5,     5,     5,     5,     5,     5,     5,     5,\n",
              "             5,     5,     5,     5,     5,     5,     5,     5,     5,     5,\n",
              "             5,     5,     5,     5,     5,     5,    17,  6838,   844,   416,\n",
              "            66,  2754,    17,    10, 14314,   304,    17,  6838,   844,    48,\n",
              "           577,  1888,   416,    66,  2754,    17,    88,  3938, 17883,    11,\n",
              "            17,    10,  1249,    25,    17,  5067,   261,   112,  3743,   155,\n",
              "           112, 11271,  2392,  5932,    11,    27,    24,   112, 11271,  2392,\n",
              "            17,   167,  6950,  1406,  3592,    17, 10943,    21,   598,  3324,\n",
              "            20, 27989,   577,  8710,    17, 19737,   480,    21,  2724,   145,\n",
              "           515,    25, 11951,   153,     9,    43,    27,   318,    28,  5029,\n",
              "          4074,    21,  5407,    23,    33,   807,  2736,     9,     4,     3]]), 'token_type_ids': tensor([[3, 3, 3, 3, 3, 3, 3, 3, 3, 3, 3, 3, 3, 3, 3, 3, 3, 3, 3, 3, 3, 3, 3, 3,\n",
              "         3, 3, 3, 3, 3, 3, 3, 3, 3, 3, 3, 3, 3, 3, 3, 3, 3, 3, 3, 3, 3, 3, 0, 0,\n",
              "         0, 0, 0, 0, 0, 0, 0, 0, 0, 0, 0, 0, 0, 0, 0, 0, 0, 0, 0, 0, 0, 0, 0, 0,\n",
              "         0, 0, 0, 0, 0, 0, 0, 0, 0, 0, 0, 0, 0, 0, 0, 0, 0, 0, 0, 0, 0, 0, 0, 0,\n",
              "         0, 0, 0, 0, 0, 0, 0, 0, 0, 0, 0, 0, 0, 0, 0, 0, 0, 0, 0, 0, 0, 0, 0, 0,\n",
              "         0, 0, 0, 0, 0, 0, 0, 0, 0, 2]]), 'attention_mask': tensor([[0, 0, 0, 0, 0, 0, 0, 0, 0, 0, 0, 0, 0, 0, 0, 0, 0, 0, 0, 0, 0, 0, 0, 0,\n",
              "         0, 0, 0, 0, 0, 0, 0, 0, 0, 0, 0, 0, 0, 0, 0, 0, 0, 0, 0, 0, 0, 0, 1, 1,\n",
              "         1, 1, 1, 1, 1, 1, 1, 1, 1, 1, 1, 1, 1, 1, 1, 1, 1, 1, 1, 1, 1, 1, 1, 1,\n",
              "         1, 1, 1, 1, 1, 1, 1, 1, 1, 1, 1, 1, 1, 1, 1, 1, 1, 1, 1, 1, 1, 1, 1, 1,\n",
              "         1, 1, 1, 1, 1, 1, 1, 1, 1, 1, 1, 1, 1, 1, 1, 1, 1, 1, 1, 1, 1, 1, 1, 1,\n",
              "         1, 1, 1, 1, 1, 1, 1, 1, 1, 1]])}"
            ]
          },
          "execution_count": 26,
          "metadata": {},
          "output_type": "execute_result"
        }
      ],
      "source": [
        "_ = xlnet_tokenizer.encode_plus(\n",
        "    train[\"Content\"][0],\n",
        "    add_special_tokens=True,\n",
        "    max_length=MAX_LEN,\n",
        "    padding=\"max_length\",\n",
        "    truncation=True,\n",
        "    return_tensors=\"pt\",\n",
        ")\n",
        "_"
      ]
    },
    {
      "cell_type": "code",
      "execution_count": null,
      "id": "55635869-5822-41f5-99b3-973f2976c95a",
      "metadata": {
        "id": "55635869-5822-41f5-99b3-973f2976c95a",
        "outputId": "73542728-31fd-4846-e1f0-5b1385aad052"
      },
      "outputs": [
        {
          "data": {
            "text/plain": [
              "torch.Size([1, 130])"
            ]
          },
          "execution_count": 27,
          "metadata": {},
          "output_type": "execute_result"
        }
      ],
      "source": [
        "_[\"input_ids\"].size()"
      ]
    },
    {
      "cell_type": "code",
      "execution_count": null,
      "id": "2ca2c42c-790f-4270-93b6-54695e4969dc",
      "metadata": {
        "id": "2ca2c42c-790f-4270-93b6-54695e4969dc",
        "outputId": "61241824-b215-4045-ff95-75d5157e561f"
      },
      "outputs": [
        {
          "data": {
            "text/html": [
              "<div>\n",
              "<style scoped>\n",
              "    .dataframe tbody tr th:only-of-type {\n",
              "        vertical-align: middle;\n",
              "    }\n",
              "\n",
              "    .dataframe tbody tr th {\n",
              "        vertical-align: top;\n",
              "    }\n",
              "\n",
              "    .dataframe thead th {\n",
              "        text-align: right;\n",
              "    }\n",
              "</style>\n",
              "<table border=\"1\" class=\"dataframe\">\n",
              "  <thead>\n",
              "    <tr style=\"text-align: right;\">\n",
              "      <th></th>\n",
              "      <th>Class Index</th>\n",
              "      <th>Title</th>\n",
              "      <th>Content</th>\n",
              "    </tr>\n",
              "  </thead>\n",
              "  <tbody>\n",
              "    <tr>\n",
              "      <th>0</th>\n",
              "      <td>2</td>\n",
              "      <td>Henry Mendez</td>\n",
              "      <td>Henry Méndez (full name Henry Antonio Méndez Reynoso) (born in Santo Domingo Dominican Republic) is a Dominican / Spanish singer songwriter and record producer of reggaeton rap Latin house and dance now based in Spain. He is known for solo hits and collaborations with various artists.</td>\n",
              "    </tr>\n",
              "    <tr>\n",
              "      <th>1</th>\n",
              "      <td>12</td>\n",
              "      <td>Inside Nazi Germany</td>\n",
              "      <td>Inside Nazi Germany is a 1938 short documentary film directed by Jack Glenn. It is an episode of the newsreel series The March of Time.In 1993 Inside Nazi Germany was deemed culturally significant by the Library of Congress and selected for preservation in the United States National Film Registry.</td>\n",
              "    </tr>\n",
              "    <tr>\n",
              "      <th>2</th>\n",
              "      <td>5</td>\n",
              "      <td>HMS Tuscan (R56)</td>\n",
              "      <td>HMS Tuscan (R56) was a T-class destroyer of the British Royal Navy. She was later converted to a Type 16 fast anti-submarine frigate with the new pennant number F156.</td>\n",
              "    </tr>\n",
              "  </tbody>\n",
              "</table>\n",
              "</div>"
            ],
            "text/plain": [
              "   Class Index                Title  \\\n",
              "0            2         Henry Mendez   \n",
              "1           12  Inside Nazi Germany   \n",
              "2            5     HMS Tuscan (R56)   \n",
              "\n",
              "                                                                                                                                                                                                                                                                                                      Content  \n",
              "0               Henry Méndez (full name Henry Antonio Méndez Reynoso) (born in Santo Domingo Dominican Republic) is a Dominican / Spanish singer songwriter and record producer of reggaeton rap Latin house and dance now based in Spain. He is known for solo hits and collaborations with various artists.  \n",
              "1  Inside Nazi Germany is a 1938 short documentary film directed by Jack Glenn. It is an episode of the newsreel series The March of Time.In 1993 Inside Nazi Germany was deemed culturally significant by the Library of Congress and selected for preservation in the United States National Film Registry.  \n",
              "2                                                                                                                                      HMS Tuscan (R56) was a T-class destroyer of the British Royal Navy. She was later converted to a Type 16 fast anti-submarine frigate with the new pennant number F156.  "
            ]
          },
          "execution_count": 28,
          "metadata": {},
          "output_type": "execute_result"
        }
      ],
      "source": [
        "train.head(3)"
      ]
    },
    {
      "cell_type": "code",
      "execution_count": null,
      "id": "6ffc35a6-8252-410c-873e-2e7a6f9eedf3",
      "metadata": {
        "id": "6ffc35a6-8252-410c-873e-2e7a6f9eedf3"
      },
      "outputs": [],
      "source": [
        "class DBPediaDataset(Dataset):\n",
        "    TARGET = \"Class Index\"\n",
        "    TEXT = \"Content\"\n",
        "\n",
        "    def __init__(self, texts, targets, tokenizer=xlnet_tokenizer):\n",
        "        self.texts = texts\n",
        "        self.targets = targets\n",
        "        self.tokenizer = tokenizer\n",
        "\n",
        "    def __len__(self):\n",
        "        assert len(self.texts) == len(\n",
        "            self.targets\n",
        "        ), \"Text Length and Target Length must be Same.\"\n",
        "        return len(self.texts)\n",
        "\n",
        "    def __getitem__(self, idx):\n",
        "        text = str(self.texts[idx])\n",
        "        text = preprocess_text(text)\n",
        "        target = self.targets[idx]\n",
        "        out = self.tokenizer.encode_plus(\n",
        "            text,\n",
        "            add_special_tokens=True,\n",
        "            max_length=MAX_LEN,\n",
        "            padding=\"max_length\",\n",
        "            truncation=True,\n",
        "            return_tensors=\"pt\",\n",
        "        )\n",
        "        return {\n",
        "            \"input_ids\": out[\"input_ids\"][0].to(torch.long),\n",
        "            \"attention_mask\": out[\"attention_mask\"][0].to(torch.long),\n",
        "            \"token_type_ids\": out[\"token_type_ids\"][0].to(torch.long),\n",
        "            \"target\": target,\n",
        "        }\n",
        "\n",
        "    @classmethod\n",
        "    def read_from_df(cls, df: pd.DataFrame):\n",
        "        return cls(df[cls.TEXT].values, df[cls.TARGET].values)"
      ]
    },
    {
      "cell_type": "code",
      "execution_count": null,
      "id": "3031f8df-60f0-4dcf-805b-431bf43d1f23",
      "metadata": {
        "id": "3031f8df-60f0-4dcf-805b-431bf43d1f23"
      },
      "outputs": [],
      "source": [
        "train_dataset = DBPediaDataset.read_from_df(train)\n",
        "valid_dataset = DBPediaDataset.read_from_df(valid)"
      ]
    },
    {
      "cell_type": "code",
      "execution_count": null,
      "id": "68ddea40-d87e-48b1-8759-fda8fd0c25ec",
      "metadata": {
        "id": "68ddea40-d87e-48b1-8759-fda8fd0c25ec"
      },
      "outputs": [],
      "source": [
        "BATCH_SIZE = 30\n",
        "\n",
        "train_dataloader = DataLoader(\n",
        "    train_dataset, batch_size=BATCH_SIZE, num_workers=os.cpu_count()\n",
        ")\n",
        "valid_dataloader = DataLoader(\n",
        "    valid_dataset, batch_size=BATCH_SIZE, num_workers=os.cpu_count()\n",
        ")"
      ]
    },
    {
      "cell_type": "code",
      "execution_count": null,
      "id": "3d8525dc-8d97-491d-8045-b525c3b2536f",
      "metadata": {
        "id": "3d8525dc-8d97-491d-8045-b525c3b2536f",
        "outputId": "6f52d368-c460-47bc-d15d-f2d0ba18c4f6"
      },
      "outputs": [
        {
          "data": {
            "text/plain": [
              "{'input_ids': tensor([[5, 5, 5,  ..., 9, 4, 3],\n",
              "         [5, 5, 5,  ..., 9, 4, 3],\n",
              "         [5, 5, 5,  ..., 9, 4, 3],\n",
              "         ...,\n",
              "         [5, 5, 5,  ..., 9, 4, 3],\n",
              "         [5, 5, 5,  ..., 9, 4, 3],\n",
              "         [5, 5, 5,  ..., 9, 4, 3]]),\n",
              " 'attention_mask': tensor([[0, 0, 0,  ..., 1, 1, 1],\n",
              "         [0, 0, 0,  ..., 1, 1, 1],\n",
              "         [0, 0, 0,  ..., 1, 1, 1],\n",
              "         ...,\n",
              "         [0, 0, 0,  ..., 1, 1, 1],\n",
              "         [0, 0, 0,  ..., 1, 1, 1],\n",
              "         [0, 0, 0,  ..., 1, 1, 1]]),\n",
              " 'token_type_ids': tensor([[3, 3, 3,  ..., 0, 0, 2],\n",
              "         [3, 3, 3,  ..., 0, 0, 2],\n",
              "         [3, 3, 3,  ..., 0, 0, 2],\n",
              "         ...,\n",
              "         [3, 3, 3,  ..., 0, 0, 2],\n",
              "         [3, 3, 3,  ..., 0, 0, 2],\n",
              "         [3, 3, 3,  ..., 0, 0, 2]]),\n",
              " 'target': tensor([ 2, 12,  5,  2,  7, 11,  9,  0,  1,  8, 10,  8, 10,  9,  9,  6,  0,  4,\n",
              "          8,  7,  6, 10,  9,  9,  3,  0, 12,  5,  3,  7])}"
            ]
          },
          "execution_count": 32,
          "metadata": {},
          "output_type": "execute_result"
        }
      ],
      "source": [
        "next(iter(train_dataloader))"
      ]
    },
    {
      "cell_type": "code",
      "execution_count": null,
      "id": "75216986-64f8-4c2e-85e8-43444ffd68ab",
      "metadata": {
        "id": "75216986-64f8-4c2e-85e8-43444ffd68ab"
      },
      "outputs": [],
      "source": [
        "NUM_CLASSES = train[TARGET].nunique()"
      ]
    },
    {
      "cell_type": "code",
      "execution_count": null,
      "id": "8e848647-f72a-4473-bb96-ce6d281bfb99",
      "metadata": {
        "id": "8e848647-f72a-4473-bb96-ce6d281bfb99"
      },
      "outputs": [],
      "source": [
        "# class XLNetModelCustom(nn.Module):\n",
        "#     def __init__(self, num_labels=NUM_CLASSES):\n",
        "#         super().__init__()\n",
        "#         self.num_labels = num_labels\n",
        "#         self.xlnet = XLNetModel.from_pretrained(PRETRAINED_MODEL)\n",
        "\n",
        "#         # XLNet Base has 12 layers starting to count from 0 makes 11\n",
        "#         out_features = self.xlnet.layer[11].ff.layer_2.out_features\n",
        "#         self.classifier = torch.nn.Linear(out_features, num_labels)\n",
        "\n",
        "#     def forward(self, input_ids, attention_mask, token_type_ids, labels):\n",
        "#         last_hidden_state = self.xlnet(\n",
        "#             input_ids=input_ids,\n",
        "#             attention_mask=attention_mask,\n",
        "#             token_type=token_type_ids,\n",
        "#         )\n",
        "#         # pool outputs into a mean vector\n",
        "#         mean_last_hidden_state = self.pool_hidden_state(last_hidden_state)\n",
        "#         logits = self.classifier(mean_last_hidden_state)\n",
        "\n",
        "#         # Return logits for inference & return the loss during training\n",
        "#         if labels is not None:\n",
        "#             criterion = CrossEntropyLoss()\n",
        "#             loss = criterion(logits, labels)\n",
        "#             return loss\n",
        "#         else:\n",
        "#             return logits\n",
        "\n",
        "#     def freeze_xlnet_decoder(self):\n",
        "#         \"\"\"Freeze XLNet weight parameters. They will not be updated during training.\"\"\"\n",
        "#         for params in self.xlnet.parameters():\n",
        "#             params.requires_grad = False\n",
        "\n",
        "#     def unfreeze_xlnet_decoder(self):\n",
        "#         \"\"\"Unfreeze XLNet weight parameters. They will be updated during training.\"\"\"\n",
        "#         for params in self.xlnet.parameters():\n",
        "#             params.requires_grad = True\n",
        "\n",
        "#     def pool_hidden_state(self, last_hidden_state):\n",
        "#         \"\"\"Pool the output vectors into a single mean vector\"\"\"\n",
        "#         last_hidden_state = last_hidden_state[0]\n",
        "#         mean_last_hidden_state = torch.mean(last_hidden_state, dim=1)\n",
        "#         return mean_last_hidden_state"
      ]
    },
    {
      "cell_type": "code",
      "execution_count": null,
      "id": "d08293ab-f6ee-4fa2-abe4-0c4608d4fec9",
      "metadata": {
        "id": "d08293ab-f6ee-4fa2-abe4-0c4608d4fec9"
      },
      "outputs": [],
      "source": [
        "class XLNetModelCustom(nn.Module):\n",
        "    def __init__(self, num_labels=NUM_CLASSES):\n",
        "        super().__init__()\n",
        "        self.num_labels = num_labels\n",
        "        self.xlnet = XLNetModel.from_pretrained(PRETRAINED_MODEL)\n",
        "\n",
        "        # XLNet Base has 12 layers starting to count from 0 makes 11\n",
        "        out_features = self.xlnet.layer[11].ff.layer_2.out_features\n",
        "        self.classifier = torch.nn.Linear(out_features, num_labels)\n",
        "\n",
        "    def forward(self, input_ids, attention_mask, token_type_ids):\n",
        "        last_hidden_state = self.xlnet(\n",
        "            input_ids=input_ids,\n",
        "            attention_mask=attention_mask,\n",
        "            token_type=token_type_ids,\n",
        "        )\n",
        "        # pool outputs into a mean vector\n",
        "        mean_last_hidden_state = self.pool_hidden_state(last_hidden_state)\n",
        "        logits = self.classifier(mean_last_hidden_state)\n",
        "\n",
        "        # Return logits for inference & return the loss during training\n",
        "        # if labels is not None:\n",
        "        #     criterion = CrossEntropyLoss()\n",
        "        #     loss = criterion(logits, labels)\n",
        "        #     return loss\n",
        "        # else:\n",
        "        #     return logits\n",
        "        return logits\n",
        "\n",
        "    def freeze_xlnet_decoder(self):\n",
        "        \"\"\"Freeze XLNet weight parameters. They will not be updated during training.\"\"\"\n",
        "        for params in self.xlnet.parameters():\n",
        "            params.requires_grad = False\n",
        "\n",
        "    def unfreeze_xlnet_decoder(self):\n",
        "        \"\"\"Unfreeze XLNet weight parameters. They will be updated during training.\"\"\"\n",
        "        for params in self.xlnet.parameters():\n",
        "            params.requires_grad = True\n",
        "\n",
        "    def pool_hidden_state(self, last_hidden_state):\n",
        "        \"\"\"Pool the output vectors into a single mean vector\"\"\"\n",
        "        last_hidden_state = last_hidden_state[0]\n",
        "        mean_last_hidden_state = torch.mean(last_hidden_state, dim=1)\n",
        "        return mean_last_hidden_state"
      ]
    },
    {
      "cell_type": "code",
      "execution_count": null,
      "id": "5029685f-f910-4b1d-aa7b-c57f1c4fce54",
      "metadata": {
        "id": "5029685f-f910-4b1d-aa7b-c57f1c4fce54"
      },
      "outputs": [],
      "source": [
        "# # jsut taking a look at things outside the function\n",
        "# _ = next(iter(train_dataloader))\n",
        "# _['input_ids'].shape\n",
        "# out = xlnet_model(input_ids=_['input_ids'],\n",
        "#            attention_mask=_['attention_mask'])\n",
        "\n",
        "# print(out[0].shape, len(out[1]))\n",
        "\n",
        "# last_hidden_state = out[0]\n",
        "# print(last_hidden_state.shape)\n",
        "\n",
        "# mean_last_hidden_state = torch.mean(last_hidden_state, dim=1)\n",
        "# print(mean_last_hidden_state.shape)\n",
        "\n",
        "# classifier = nn.Linear(768, 14)\n",
        "# logits = classifier(mean_last_hidden_state)\n",
        "# print(logits.shape)"
      ]
    },
    {
      "cell_type": "code",
      "execution_count": null,
      "id": "71ceffd4-a519-444a-b2b7-809f43d145c6",
      "metadata": {
        "id": "71ceffd4-a519-444a-b2b7-809f43d145c6",
        "outputId": "7f91a4a4-60f3-4f75-d96f-e6fcc45cea33"
      },
      "outputs": [
        {
          "name": "stderr",
          "output_type": "stream",
          "text": [
            "Some weights of the model checkpoint at xlnet-base-cased were not used when initializing XLNetModel: ['lm_loss.weight', 'lm_loss.bias']\n",
            "- This IS expected if you are initializing XLNetModel from the checkpoint of a model trained on another task or with another architecture (e.g. initializing a BertForSequenceClassification model from a BertForPreTraining model).\n",
            "- This IS NOT expected if you are initializing XLNetModel from the checkpoint of a model that you expect to be exactly identical (initializing a BertForSequenceClassification model from a BertForSequenceClassification model).\n"
          ]
        },
        {
          "data": {
            "text/plain": [
              "XLNetModelCustom(\n",
              "  (xlnet): XLNetModel(\n",
              "    (word_embedding): Embedding(32000, 768)\n",
              "    (layer): ModuleList(\n",
              "      (0): XLNetLayer(\n",
              "        (rel_attn): XLNetRelativeAttention(\n",
              "          (layer_norm): LayerNorm((768,), eps=1e-12, elementwise_affine=True)\n",
              "          (dropout): Dropout(p=0.1, inplace=False)\n",
              "        )\n",
              "        (ff): XLNetFeedForward(\n",
              "          (layer_norm): LayerNorm((768,), eps=1e-12, elementwise_affine=True)\n",
              "          (layer_1): Linear(in_features=768, out_features=3072, bias=True)\n",
              "          (layer_2): Linear(in_features=3072, out_features=768, bias=True)\n",
              "          (dropout): Dropout(p=0.1, inplace=False)\n",
              "        )\n",
              "        (dropout): Dropout(p=0.1, inplace=False)\n",
              "      )\n",
              "      (1): XLNetLayer(\n",
              "        (rel_attn): XLNetRelativeAttention(\n",
              "          (layer_norm): LayerNorm((768,), eps=1e-12, elementwise_affine=True)\n",
              "          (dropout): Dropout(p=0.1, inplace=False)\n",
              "        )\n",
              "        (ff): XLNetFeedForward(\n",
              "          (layer_norm): LayerNorm((768,), eps=1e-12, elementwise_affine=True)\n",
              "          (layer_1): Linear(in_features=768, out_features=3072, bias=True)\n",
              "          (layer_2): Linear(in_features=3072, out_features=768, bias=True)\n",
              "          (dropout): Dropout(p=0.1, inplace=False)\n",
              "        )\n",
              "        (dropout): Dropout(p=0.1, inplace=False)\n",
              "      )\n",
              "      (2): XLNetLayer(\n",
              "        (rel_attn): XLNetRelativeAttention(\n",
              "          (layer_norm): LayerNorm((768,), eps=1e-12, elementwise_affine=True)\n",
              "          (dropout): Dropout(p=0.1, inplace=False)\n",
              "        )\n",
              "        (ff): XLNetFeedForward(\n",
              "          (layer_norm): LayerNorm((768,), eps=1e-12, elementwise_affine=True)\n",
              "          (layer_1): Linear(in_features=768, out_features=3072, bias=True)\n",
              "          (layer_2): Linear(in_features=3072, out_features=768, bias=True)\n",
              "          (dropout): Dropout(p=0.1, inplace=False)\n",
              "        )\n",
              "        (dropout): Dropout(p=0.1, inplace=False)\n",
              "      )\n",
              "      (3): XLNetLayer(\n",
              "        (rel_attn): XLNetRelativeAttention(\n",
              "          (layer_norm): LayerNorm((768,), eps=1e-12, elementwise_affine=True)\n",
              "          (dropout): Dropout(p=0.1, inplace=False)\n",
              "        )\n",
              "        (ff): XLNetFeedForward(\n",
              "          (layer_norm): LayerNorm((768,), eps=1e-12, elementwise_affine=True)\n",
              "          (layer_1): Linear(in_features=768, out_features=3072, bias=True)\n",
              "          (layer_2): Linear(in_features=3072, out_features=768, bias=True)\n",
              "          (dropout): Dropout(p=0.1, inplace=False)\n",
              "        )\n",
              "        (dropout): Dropout(p=0.1, inplace=False)\n",
              "      )\n",
              "      (4): XLNetLayer(\n",
              "        (rel_attn): XLNetRelativeAttention(\n",
              "          (layer_norm): LayerNorm((768,), eps=1e-12, elementwise_affine=True)\n",
              "          (dropout): Dropout(p=0.1, inplace=False)\n",
              "        )\n",
              "        (ff): XLNetFeedForward(\n",
              "          (layer_norm): LayerNorm((768,), eps=1e-12, elementwise_affine=True)\n",
              "          (layer_1): Linear(in_features=768, out_features=3072, bias=True)\n",
              "          (layer_2): Linear(in_features=3072, out_features=768, bias=True)\n",
              "          (dropout): Dropout(p=0.1, inplace=False)\n",
              "        )\n",
              "        (dropout): Dropout(p=0.1, inplace=False)\n",
              "      )\n",
              "      (5): XLNetLayer(\n",
              "        (rel_attn): XLNetRelativeAttention(\n",
              "          (layer_norm): LayerNorm((768,), eps=1e-12, elementwise_affine=True)\n",
              "          (dropout): Dropout(p=0.1, inplace=False)\n",
              "        )\n",
              "        (ff): XLNetFeedForward(\n",
              "          (layer_norm): LayerNorm((768,), eps=1e-12, elementwise_affine=True)\n",
              "          (layer_1): Linear(in_features=768, out_features=3072, bias=True)\n",
              "          (layer_2): Linear(in_features=3072, out_features=768, bias=True)\n",
              "          (dropout): Dropout(p=0.1, inplace=False)\n",
              "        )\n",
              "        (dropout): Dropout(p=0.1, inplace=False)\n",
              "      )\n",
              "      (6): XLNetLayer(\n",
              "        (rel_attn): XLNetRelativeAttention(\n",
              "          (layer_norm): LayerNorm((768,), eps=1e-12, elementwise_affine=True)\n",
              "          (dropout): Dropout(p=0.1, inplace=False)\n",
              "        )\n",
              "        (ff): XLNetFeedForward(\n",
              "          (layer_norm): LayerNorm((768,), eps=1e-12, elementwise_affine=True)\n",
              "          (layer_1): Linear(in_features=768, out_features=3072, bias=True)\n",
              "          (layer_2): Linear(in_features=3072, out_features=768, bias=True)\n",
              "          (dropout): Dropout(p=0.1, inplace=False)\n",
              "        )\n",
              "        (dropout): Dropout(p=0.1, inplace=False)\n",
              "      )\n",
              "      (7): XLNetLayer(\n",
              "        (rel_attn): XLNetRelativeAttention(\n",
              "          (layer_norm): LayerNorm((768,), eps=1e-12, elementwise_affine=True)\n",
              "          (dropout): Dropout(p=0.1, inplace=False)\n",
              "        )\n",
              "        (ff): XLNetFeedForward(\n",
              "          (layer_norm): LayerNorm((768,), eps=1e-12, elementwise_affine=True)\n",
              "          (layer_1): Linear(in_features=768, out_features=3072, bias=True)\n",
              "          (layer_2): Linear(in_features=3072, out_features=768, bias=True)\n",
              "          (dropout): Dropout(p=0.1, inplace=False)\n",
              "        )\n",
              "        (dropout): Dropout(p=0.1, inplace=False)\n",
              "      )\n",
              "      (8): XLNetLayer(\n",
              "        (rel_attn): XLNetRelativeAttention(\n",
              "          (layer_norm): LayerNorm((768,), eps=1e-12, elementwise_affine=True)\n",
              "          (dropout): Dropout(p=0.1, inplace=False)\n",
              "        )\n",
              "        (ff): XLNetFeedForward(\n",
              "          (layer_norm): LayerNorm((768,), eps=1e-12, elementwise_affine=True)\n",
              "          (layer_1): Linear(in_features=768, out_features=3072, bias=True)\n",
              "          (layer_2): Linear(in_features=3072, out_features=768, bias=True)\n",
              "          (dropout): Dropout(p=0.1, inplace=False)\n",
              "        )\n",
              "        (dropout): Dropout(p=0.1, inplace=False)\n",
              "      )\n",
              "      (9): XLNetLayer(\n",
              "        (rel_attn): XLNetRelativeAttention(\n",
              "          (layer_norm): LayerNorm((768,), eps=1e-12, elementwise_affine=True)\n",
              "          (dropout): Dropout(p=0.1, inplace=False)\n",
              "        )\n",
              "        (ff): XLNetFeedForward(\n",
              "          (layer_norm): LayerNorm((768,), eps=1e-12, elementwise_affine=True)\n",
              "          (layer_1): Linear(in_features=768, out_features=3072, bias=True)\n",
              "          (layer_2): Linear(in_features=3072, out_features=768, bias=True)\n",
              "          (dropout): Dropout(p=0.1, inplace=False)\n",
              "        )\n",
              "        (dropout): Dropout(p=0.1, inplace=False)\n",
              "      )\n",
              "      (10): XLNetLayer(\n",
              "        (rel_attn): XLNetRelativeAttention(\n",
              "          (layer_norm): LayerNorm((768,), eps=1e-12, elementwise_affine=True)\n",
              "          (dropout): Dropout(p=0.1, inplace=False)\n",
              "        )\n",
              "        (ff): XLNetFeedForward(\n",
              "          (layer_norm): LayerNorm((768,), eps=1e-12, elementwise_affine=True)\n",
              "          (layer_1): Linear(in_features=768, out_features=3072, bias=True)\n",
              "          (layer_2): Linear(in_features=3072, out_features=768, bias=True)\n",
              "          (dropout): Dropout(p=0.1, inplace=False)\n",
              "        )\n",
              "        (dropout): Dropout(p=0.1, inplace=False)\n",
              "      )\n",
              "      (11): XLNetLayer(\n",
              "        (rel_attn): XLNetRelativeAttention(\n",
              "          (layer_norm): LayerNorm((768,), eps=1e-12, elementwise_affine=True)\n",
              "          (dropout): Dropout(p=0.1, inplace=False)\n",
              "        )\n",
              "        (ff): XLNetFeedForward(\n",
              "          (layer_norm): LayerNorm((768,), eps=1e-12, elementwise_affine=True)\n",
              "          (layer_1): Linear(in_features=768, out_features=3072, bias=True)\n",
              "          (layer_2): Linear(in_features=3072, out_features=768, bias=True)\n",
              "          (dropout): Dropout(p=0.1, inplace=False)\n",
              "        )\n",
              "        (dropout): Dropout(p=0.1, inplace=False)\n",
              "      )\n",
              "    )\n",
              "    (dropout): Dropout(p=0.1, inplace=False)\n",
              "  )\n",
              "  (classifier): Linear(in_features=768, out_features=14, bias=True)\n",
              ")"
            ]
          },
          "execution_count": 37,
          "metadata": {},
          "output_type": "execute_result"
        }
      ],
      "source": [
        "model = XLNetModelCustom(num_labels=NUM_CLASSES)\n",
        "model.to(DEVICE)"
      ]
    },
    {
      "cell_type": "code",
      "execution_count": null,
      "id": "d23b9ad1-c01c-4d42-a658-45d2bb80e953",
      "metadata": {
        "id": "d23b9ad1-c01c-4d42-a658-45d2bb80e953",
        "outputId": "ca1b8bb0-e548-437b-87cf-16e2a2a13a0a"
      },
      "outputs": [
        {
          "data": {
            "text/plain": [
              "device(type='cuda', index=0)"
            ]
          },
          "execution_count": 38,
          "metadata": {},
          "output_type": "execute_result"
        }
      ],
      "source": [
        "# Check if model is on GPU\n",
        "next(model.parameters()).device"
      ]
    },
    {
      "cell_type": "code",
      "execution_count": null,
      "id": "43f7ede9-6e67-4012-9492-e736fb484116",
      "metadata": {
        "id": "43f7ede9-6e67-4012-9492-e736fb484116"
      },
      "outputs": [],
      "source": [
        "LR = 2e-5\n",
        "WEIGHT_DECAY = 1e-2"
      ]
    },
    {
      "cell_type": "code",
      "execution_count": null,
      "id": "a5bd58a8-a39d-44ae-a320-f906f1de2074",
      "metadata": {
        "id": "a5bd58a8-a39d-44ae-a320-f906f1de2074"
      },
      "outputs": [],
      "source": [
        "optimizer = AdamW(\n",
        "    model.parameters(), lr=LR, weight_decay=WEIGHT_DECAY, correct_bias=False\n",
        ")"
      ]
    },
    {
      "cell_type": "code",
      "execution_count": null,
      "id": "ce0a97ab-7efc-4db4-b98d-82097e6497c4",
      "metadata": {
        "id": "ce0a97ab-7efc-4db4-b98d-82097e6497c4"
      },
      "outputs": [],
      "source": [
        "criterion = CrossEntropyLoss()"
      ]
    },
    {
      "cell_type": "code",
      "execution_count": null,
      "id": "819d0d9c-4a8a-441f-8e0f-30199b1a18ba",
      "metadata": {
        "id": "819d0d9c-4a8a-441f-8e0f-30199b1a18ba"
      },
      "outputs": [],
      "source": [
        "EPOCHS = 10"
      ]
    },
    {
      "cell_type": "code",
      "execution_count": null,
      "id": "fd6f9a3d-c67d-4646-82a8-6c93a9772632",
      "metadata": {
        "id": "fd6f9a3d-c67d-4646-82a8-6c93a9772632"
      },
      "outputs": [],
      "source": [
        "def train_model(model, dataloader, optimizer, criterion, device=DEVICE):\n",
        "    model.train()\n",
        "    start_time = time.time()\n",
        "    total_loss, total_count = 0, 0\n",
        "\n",
        "    for data in tqdm(dataloader):\n",
        "        optimizer.zero_grad()\n",
        "        input_ids, attention_mask, token_types, targets = (\n",
        "            data[\"input_ids\"].to(device),\n",
        "            data[\"attention_mask\"].to(device),\n",
        "            data[\"token_type_ids\"].to(device),\n",
        "            data['target'].to(device),\n",
        "        )\n",
        "        outputs = model(input_ids, attention_mask, token_types)\n",
        "        loss = criterion(F.sigmoid(outputs), targets)\n",
        "        loss.backward()\n",
        "        optimizer.step()\n",
        "        total_loss += loss.item()\n",
        "        total_count += targets.size(0)\n",
        "\n",
        "    return total_loss / total_count, time.time() - start_time\n",
        "\n",
        "\n",
        "def evaluate_model(model, dataloader, criterion, device=DEVICE):\n",
        "    model.eval()\n",
        "    total_loss, total_count = 0, 0\n",
        "\n",
        "    with torch.no_grad():\n",
        "        for data in tqdm(dataloader):\n",
        "            input_ids, attention_mask, token_types, targets = (\n",
        "                data[\"input_ids\"].to(device),\n",
        "                data[\"attention_mask\"].to(device),\n",
        "                data[\"token_type_ids\"].to(device),\n",
        "                data['target'].to(device)\n",
        "            )\n",
        "            outputs = model(input_ids, attention_mask, token_types)\n",
        "            loss = criterion(F.sigmoid(outputs), targets)\n",
        "            total_loss += loss.item()\n",
        "            total_count += targets.size(0)\n",
        "\n",
        "    return total_loss / total_count"
      ]
    },
    {
      "cell_type": "code",
      "execution_count": null,
      "id": "09fbad45-72b3-4945-9bc5-8191ac82c8d6",
      "metadata": {
        "id": "09fbad45-72b3-4945-9bc5-8191ac82c8d6"
      },
      "outputs": [],
      "source": [
        "path_name = \"models\"\n",
        "if not os.path.exists(path_name):\n",
        "    os.mkdir(path_name)"
      ]
    },
    {
      "cell_type": "code",
      "execution_count": null,
      "id": "04271d64-aa3a-4eeb-babe-a6eaa9e7cbc1",
      "metadata": {
        "id": "04271d64-aa3a-4eeb-babe-a6eaa9e7cbc1"
      },
      "outputs": [],
      "source": [
        "# _ = next(iter(train_dataloader))\n",
        "# input_ids, attention_mask, token_types, target = _[\"input_ids\"].to(DEVICE), _[\"attention_mask\"].to(DEVICE), _[\"token_type_ids\"].to(DEVICE), _[\"target\"].to(DEVICE)\n",
        "\n",
        "# outputs = model(input_ids, attention_mask, token_types)\n",
        "# print(outputs.shape)\n",
        "\n",
        "# print(criterion(F.sigmoid(outputs), target))"
      ]
    },
    {
      "cell_type": "code",
      "execution_count": null,
      "id": "08dcc4d3-fe66-46c9-84fb-8dc73b1f5d4c",
      "metadata": {
        "id": "08dcc4d3-fe66-46c9-84fb-8dc73b1f5d4c",
        "outputId": "fd55858d-33b8-4878-bdaf-f9510dd2d90e"
      },
      "outputs": [
        {
          "name": "stderr",
          "output_type": "stream",
          "text": [
            "100%|██████████| 1250/1250 [18:16<00:00,  1.14it/s]\n",
            "100%|██████████| 417/417 [02:17<00:00,  3.03it/s]\n"
          ]
        },
        {
          "name": "stdout",
          "output_type": "stream",
          "text": [
            "-----------------------------------------------------------------------\n",
            "| Epoch 1/10 | Time: 1096.37 | Train Loss: 0.05884 | Eval Loss: 0.05888 |\n",
            "-----------------------------------------------------------------------\n"
          ]
        },
        {
          "name": "stderr",
          "output_type": "stream",
          "text": [
            " 98%|█████████▊| 1220/1250 [17:57<00:26,  1.15it/s]"
          ]
        }
      ],
      "source": [
        "history = defaultdict(list)\n",
        "best_loss = np.inf\n",
        "for epoch in range(1, EPOCHS+1):\n",
        "    train_loss, run_time = train_model(model, train_dataloader, optimizer, criterion)\n",
        "    eval_loss = evaluate_model(model, valid_dataloader, criterion)\n",
        "    history[\"train_loss\"].append(train_loss)\n",
        "    history[\"eval_loss\"].append(eval_loss)\n",
        "    if eval_loss < best_loss:\n",
        "        torch.save(model, f'{path_name}/best_model.pt')\n",
        "        best_loss = eval_loss\n",
        "    print(\"-\"*71)\n",
        "    print(\"| Epoch {}/{} | Time: {:.2f} | Train Loss: {:.5f} | Eval Loss: {:.5f} |\".format(epoch,EPOCHS,\n",
        "                                                             run_time,train_loss,eval_loss))\n",
        "    print(\"-\"*71)"
      ]
    },
    {
      "cell_type": "code",
      "execution_count": null,
      "id": "2893fb45-1a05-4aec-9e11-955e2be28bad",
      "metadata": {
        "id": "2893fb45-1a05-4aec-9e11-955e2be28bad"
      },
      "outputs": [],
      "source": [
        "# def train(model,\n",
        "#           num_epochs,\n",
        "#           optimizer,\n",
        "#           train_dataloader,\n",
        "#           valid_dataloader,\n",
        "#           model_save_path,\n",
        "#           train_loss_set=[],\n",
        "#           valid_loss_set = [],\n",
        "#           lowest_eval_loss=None,\n",
        "#           start_epoch=0,\n",
        "#           device=DEVICE\n",
        "#           ):\n",
        "#     \"\"\"\n",
        "#     Train the model and save the model with the lowest validation loss\n",
        "#     \"\"\"\n",
        "#     model.to(device)\n",
        "\n",
        "#     # trange is a tqdm wrapper around the normal python range\n",
        "#     for i in trange(num_epochs, desc=\"Epoch\"):\n",
        "#         # if continue training from saved model\n",
        "#         actual_epoch = start_epoch + i\n",
        "\n",
        "#         # Training\n",
        "\n",
        "#         # Set our model to training mode (as opposed to evaluation mode)\n",
        "\n",
        "#         model.train()\n",
        "\n",
        "#         # Tracking variables\n",
        "#         tr_loss = 0\n",
        "#         num_train_samples = 0\n",
        "\n",
        "#         # Train the data for one epoch\n",
        "#         for step, batch in enumerate(train_dataloader):\n",
        "#           # Add batch to GPU\n",
        "#           batch = tuple(t.to(device) for t in batch)\n",
        "#           # Unpack the inputs from our dataloader\n",
        "#           b_input_ids, b_input_mask, b_labels = batch\n",
        "#           # Clear out the gradients (by default they accumulate)\n",
        "#           optimizer.zero_grad()\n",
        "#           # Forward pass\n",
        "#           loss = model(b_input_ids, attention_mask=b_input_mask, labels=b_labels)\n",
        "#           # store train loss\n",
        "#           tr_loss += loss.item()\n",
        "#           num_train_samples += b_labels.size(0)\n",
        "#           # Backward pass\n",
        "#           loss.backward()\n",
        "#           # Update parameters and take a step using the computed gradient\n",
        "#           optimizer.step()\n",
        "#           #scheduler.step()\n",
        "\n",
        "#         # Update tracking variables\n",
        "#         epoch_train_loss = tr_loss/num_train_samples\n",
        "#         train_loss_set.append(epoch_train_loss)\n",
        "\n",
        "#         print(\"Train loss: {}\".format(epoch_train_loss))\n",
        "\n",
        "#         # Validation\n",
        "\n",
        "#         # Put model in evaluation mode to evaluate loss on the validation set\n",
        "#         model.eval()\n",
        "\n",
        "#         # Tracking variables\n",
        "#         eval_loss = 0\n",
        "#         num_eval_samples = 0\n",
        "\n",
        "#         # Evaluate data for one epoch\n",
        "#         for batch in valid_dataloader:\n",
        "#           # Add batch to GPU\n",
        "#           batch = tuple(t.to(device) for t in batch)\n",
        "#           # Unpack the inputs from our dataloader\n",
        "#           b_input_ids, b_input_mask, b_labels = batch\n",
        "#           # Telling the model not to compute or store gradients,\n",
        "#           # saving memory and speeding up validation\n",
        "#           with torch.no_grad():\n",
        "#             # Forward pass, calculate validation loss\n",
        "#             loss = model(b_input_ids, attention_mask=b_input_mask, labels=b_labels)\n",
        "#             # store valid loss\n",
        "#             eval_loss += loss.item()\n",
        "#             num_eval_samples += b_labels.size(0)\n",
        "\n",
        "#         epoch_eval_loss = eval_loss/num_eval_samples\n",
        "#         valid_loss_set.append(epoch_eval_loss)\n",
        "\n",
        "#         print(\"Valid loss: {}\".format(epoch_eval_loss))\n",
        "\n",
        "#         if lowest_eval_loss == None:\n",
        "#           lowest_eval_loss = epoch_eval_loss\n",
        "#           # save model\n",
        "#           save_model(model, model_save_path, actual_epoch,\\\n",
        "#                      lowest_eval_loss, train_loss_set, valid_loss_set)\n",
        "#         else:\n",
        "#           if epoch_eval_loss < lowest_eval_loss:\n",
        "#             lowest_eval_loss = epoch_eval_loss\n",
        "#             # save model\n",
        "#             save_model(model, model_save_path, actual_epoch,\\\n",
        "#                        lowest_eval_loss, train_loss_set, valid_loss_set)\n",
        "#         print(\"\\n\")\n",
        "\n",
        "#       return model, train_loss_set, valid_loss_set\n",
        "\n",
        "\n",
        "# def save_model(model, save_path, epochs, lowest_eval_loss, train_loss_hist, valid_loss_hist):\n",
        "#   \"\"\"\n",
        "#   Save the model to the path directory provided\n",
        "#   \"\"\"\n",
        "#   model_to_save = model.module if hasattr(model, 'module') else model\n",
        "#   checkpoint = {'epochs': epochs, \\\n",
        "#                 'lowest_eval_loss': lowest_eval_loss,\\\n",
        "#                 'state_dict': model_to_save.state_dict(),\\\n",
        "#                 'train_loss_hist': train_loss_hist,\\\n",
        "#                 'valid_loss_hist': valid_loss_hist\n",
        "#                }\n",
        "#   torch.save(checkpoint, save_path)\n",
        "#   print(\"Saving model at epoch {} with validation loss of {}\".format(epochs,\\\n",
        "#                                                                      lowest_eval_loss))\n",
        "#   return"
      ]
    },
    {
      "cell_type": "code",
      "execution_count": null,
      "id": "936178f1-a720-4178-b8ed-c82e670cb99a",
      "metadata": {
        "id": "936178f1-a720-4178-b8ed-c82e670cb99a"
      },
      "outputs": [],
      "source": [
        "# def load_model(save_path):\n",
        "#     \"\"\"\n",
        "#     Load the model from the path directory provided.\"\"\"\n",
        "#     checkpoint = torch.load(save_path)\n",
        "#     model_state_dict = checkpoint['state_dict']\n",
        "#     model = XLNetForMultiLabelSequenceClassification(num_labels=model_state_dict[\"classifier.weight\"].size()[0])\n",
        "#     model.load_state_dict(model_state_dict)\n",
        "#     return model"
      ]
    },
    {
      "cell_type": "code",
      "execution_count": null,
      "id": "354c59d6-613f-4b1b-803b-9ae90fb30213",
      "metadata": {
        "id": "354c59d6-613f-4b1b-803b-9ae90fb30213"
      },
      "outputs": [],
      "source": [
        ""
      ]
    }
  ],
  "metadata": {
    "kernelspec": {
      "display_name": "default:Python",
      "language": "python",
      "name": "conda-env-default-py"
    },
    "language_info": {
      "codemirror_mode": {
        "name": "ipython",
        "version": 3
      },
      "file_extension": ".py",
      "mimetype": "text/x-python",
      "name": "python",
      "nbconvert_exporter": "python",
      "pygments_lexer": "ipython3",
      "version": "3.9.7"
    },
    "colab": {
      "name": "Fellowship AI-XLNet.ipynb",
      "provenance": [],
      "collapsed_sections": []
    },
    "accelerator": "GPU"
  },
  "nbformat": 4,
  "nbformat_minor": 5
}